{
 "cells": [
  {
   "cell_type": "markdown",
   "metadata": {},
   "source": [
    "Install our dependencies. On a distributed cluster you'll need to do something specific to the vendor"
   ]
  },
  {
   "cell_type": "code",
   "execution_count": null,
   "metadata": {},
   "outputs": [],
   "source": [
    "!pip install --upgrade basic_instagram_library"
   ]
  },
  {
   "cell_type": "markdown",
   "metadata": {},
   "source": [
    "This assume we have Spark installed, if you don't you can run:\n",
    "!pip install pyspark"
   ]
  },
  {
   "cell_type": "code",
   "execution_count": 1,
   "metadata": {},
   "outputs": [],
   "source": [
    "import basic_instagram_library"
   ]
  },
  {
   "cell_type": "code",
   "execution_count": 25,
   "metadata": {},
   "outputs": [],
   "source": [
    "friend_name = \"nanook_of_the_burgh\""
   ]
  },
  {
   "cell_type": "code",
   "execution_count": 26,
   "metadata": {},
   "outputs": [
    {
     "data": {
      "text/plain": [
       "['Today',\n",
       " 'I',\n",
       " 'looked',\n",
       " 'up',\n",
       " '\"napping\"',\n",
       " 'in',\n",
       " 'the',\n",
       " 'dictionary',\n",
       " 'and',\n",
       " 'it',\n",
       " 'had',\n",
       " 'my',\n",
       " 'picture',\n",
       " 'in',\n",
       " 'it',\n",
       " '🙄😴',\n",
       " '#jindosofinstagram',\n",
       " '#jindodog',\n",
       " '#jindo',\n",
       " '#jindolove',\n",
       " '#jindopuppy',\n",
       " '#puppy',\n",
       " '#puppylove',\n",
       " '#puppiesofinstagram',\n",
       " '#petstagram',\n",
       " '#naptime',\n",
       " '#nap',\n",
       " '#snoringpuppy',\n",
       " '#howisitthatimsobig',\n",
       " 'On',\n",
       " 'the',\n",
       " 'lookout',\n",
       " '(now',\n",
       " 'that',\n",
       " \"I'm\",\n",
       " 'tall',\n",
       " 'enough',\n",
       " 'to',\n",
       " 'see',\n",
       " 'out',\n",
       " 'the',\n",
       " 'window)\\n\\n#jindoboi',\n",
       " '#jindoboy',\n",
       " '#jindolad',\n",
       " '#jindo',\n",
       " '#jindodog',\n",
       " '#jindosofinstagram',\n",
       " '#jindopuppy',\n",
       " '#imwaitingforyoumailman',\n",
       " 'Taking',\n",
       " 'a',\n",
       " 'break',\n",
       " 'in',\n",
       " 'the',\n",
       " 'shade',\n",
       " 'from',\n",
       " 'running',\n",
       " 'around',\n",
       " 'in',\n",
       " 'the',\n",
       " 'dog',\n",
       " 'park',\n",
       " '😀',\n",
       " '#jindosofinstagram',\n",
       " '#jindodog',\n",
       " '#jindo',\n",
       " '#jindolove',\n",
       " '#jindopuppy',\n",
       " '#puppy',\n",
       " '#puppylove',\n",
       " '#puppiesofinstagram',\n",
       " '#petstagram',\n",
       " '#puppies',\n",
       " '#dogparkfun',\n",
       " '#dogpark',\n",
       " '#notsolittleanymore',\n",
       " '#takingabreak',\n",
       " 'AAAAAAAaaaaaaaaaaaaah!\\nCrazy!',\n",
       " 'Crazy!',\n",
       " 'Crazy!',\n",
       " 'Tear',\n",
       " 'it',\n",
       " 'up!',\n",
       " 'Tear',\n",
       " 'it',\n",
       " 'up!\\n\\n#jindo',\n",
       " '#jindoboy',\n",
       " '#jindoboi',\n",
       " '#jindosofinstagram',\n",
       " '#crazydog',\n",
       " '#toomuchenergy',\n",
       " '#ialreadywentonawalktoday',\n",
       " 'Uhm,',\n",
       " 'yes,',\n",
       " 'can',\n",
       " 'I',\n",
       " 'help',\n",
       " 'you?\\n\\n#jindoboi',\n",
       " '#jindoboy',\n",
       " '#jindo',\n",
       " '#jindosofinstagram',\n",
       " '#jindodog',\n",
       " '#imadeamess',\n",
       " 'We',\n",
       " 'have',\n",
       " 'upgraded',\n",
       " 'to',\n",
       " 'a',\n",
       " 'leotard',\n",
       " '😎\\n\\n#jindoboy',\n",
       " '#jindolad',\n",
       " '#jindodog',\n",
       " '#jindopuppy',\n",
       " '#jindosofinstagram',\n",
       " '#poorleotardboy',\n",
       " 'Got',\n",
       " 'fixed',\n",
       " 'the',\n",
       " 'other',\n",
       " 'day',\n",
       " '😔\\nBut',\n",
       " 'hey,',\n",
       " 'I',\n",
       " 'look',\n",
       " 'good',\n",
       " 'in',\n",
       " 'these',\n",
       " 'underpants,',\n",
       " 'right?\\n\\n#jindoboy',\n",
       " '#jindo',\n",
       " '#jindopuppy',\n",
       " '#jindodog',\n",
       " '#jindolad',\n",
       " '#jindolove',\n",
       " '#jindosofinstagram',\n",
       " '#igotneutered',\n",
       " '#butilookgoodinboxerbriefs',\n",
       " \"It's\",\n",
       " 'like',\n",
       " 'a',\n",
       " 'jungle',\n",
       " 'out',\n",
       " 'there',\n",
       " '🌿🌴🌦️',\n",
       " '#jindosofinstagram',\n",
       " '#jindodog',\n",
       " '#jindo',\n",
       " '#jindolove',\n",
       " '#jindopuppy',\n",
       " '#puppy',\n",
       " '#puppylove',\n",
       " '#puppiesofinstagram',\n",
       " '#petstagram',\n",
       " '#welcometothejungle',\n",
       " 'A',\n",
       " 'very',\n",
       " 'happy',\n",
       " 'puppy\\n\\n#jindo',\n",
       " '#jindopuppy',\n",
       " '#jindodog',\n",
       " '#jindosofinstagram',\n",
       " '#puppy',\n",
       " '#puppiesofinstagram',\n",
       " '#happypuppy',\n",
       " '#zoomies',\n",
       " 'oF',\n",
       " 'cOuRsE',\n",
       " 'i',\n",
       " 'LiKe',\n",
       " 'ThE',\n",
       " 'hEaT',\n",
       " '🔥😛☀️🌡️🥵',\n",
       " '#jindosofinstagram',\n",
       " '#jindodog',\n",
       " '#jindo',\n",
       " '#jindolove',\n",
       " '#jindopuppy',\n",
       " '#puppy',\n",
       " '#puppylove',\n",
       " '#puppiesofinstagram',\n",
       " '#puppies',\n",
       " '#petstagram',\n",
       " '#hotdog',\n",
       " 'I',\n",
       " 'ate',\n",
       " '3',\n",
       " 'kibble.',\n",
       " 'Now',\n",
       " 'I',\n",
       " 'can',\n",
       " 'haz',\n",
       " 'ur',\n",
       " 'sammich?\\n\\nALSO,',\n",
       " 'HE',\n",
       " 'IS',\n",
       " 'ONLY',\n",
       " '6',\n",
       " 'MONTHS',\n",
       " 'OLD,',\n",
       " 'HOW',\n",
       " 'DOES',\n",
       " 'HE',\n",
       " 'LOOK',\n",
       " 'SO',\n",
       " 'MATURE!??!\\n#jindolad',\n",
       " '#jindo',\n",
       " '#jindopuppy',\n",
       " '#puppiesofinstagram',\n",
       " 'Oh',\n",
       " 'nooo',\n",
       " 'pwwwease',\n",
       " 'my',\n",
       " 'legs',\n",
       " 'melted',\n",
       " 'I',\n",
       " \"can't\",\n",
       " 'walk',\n",
       " 'anymore',\n",
       " '😭☀️🌡️🔥',\n",
       " '#jindosofinstagram',\n",
       " '#jindodog',\n",
       " '#jindo',\n",
       " '#jindolove',\n",
       " '#jindopuppy',\n",
       " '#puppy',\n",
       " '#puppylove',\n",
       " '#puppiesofinstagram',\n",
       " '#puppies',\n",
       " '#toohot',\n",
       " '#wobblylegs',\n",
       " '#sidewalk']"
      ]
     },
     "execution_count": 26,
     "metadata": {},
     "output_type": "execute_result"
    }
   ],
   "source": [
    "basic_instagram_library.find_words(\"nanook_of_the_burgh\")"
   ]
  },
  {
   "cell_type": "code",
   "execution_count": 27,
   "metadata": {},
   "outputs": [],
   "source": [
    "words = basic_instagram_library.find_words(\"nanook_of_the_burgh\")\n"
   ]
  },
  {
   "cell_type": "code",
   "execution_count": 29,
   "metadata": {},
   "outputs": [
    {
     "data": {
      "text/plain": [
       "['Today',\n",
       " 'I',\n",
       " 'looked',\n",
       " 'up',\n",
       " '\"napping\"',\n",
       " 'in',\n",
       " 'the',\n",
       " 'dictionary',\n",
       " 'and',\n",
       " 'it',\n",
       " 'had',\n",
       " 'my',\n",
       " 'picture',\n",
       " 'in',\n",
       " 'it',\n",
       " '🙄😴',\n",
       " '#jindosofinstagram',\n",
       " '#jindodog',\n",
       " '#jindo',\n",
       " '#jindolove',\n",
       " '#jindopuppy',\n",
       " '#puppy',\n",
       " '#puppylove',\n",
       " '#puppiesofinstagram',\n",
       " '#petstagram',\n",
       " '#naptime',\n",
       " '#nap',\n",
       " '#snoringpuppy',\n",
       " '#howisitthatimsobig',\n",
       " 'On',\n",
       " 'the',\n",
       " 'lookout',\n",
       " '(now',\n",
       " 'that',\n",
       " \"I'm\",\n",
       " 'tall',\n",
       " 'enough',\n",
       " 'to',\n",
       " 'see',\n",
       " 'out',\n",
       " 'the',\n",
       " 'window)\\n\\n#jindoboi',\n",
       " '#jindoboy',\n",
       " '#jindolad',\n",
       " '#jindo',\n",
       " '#jindodog',\n",
       " '#jindosofinstagram',\n",
       " '#jindopuppy',\n",
       " '#imwaitingforyoumailman',\n",
       " 'Taking',\n",
       " 'a',\n",
       " 'break',\n",
       " 'in',\n",
       " 'the',\n",
       " 'shade',\n",
       " 'from',\n",
       " 'running',\n",
       " 'around',\n",
       " 'in',\n",
       " 'the',\n",
       " 'dog',\n",
       " 'park',\n",
       " '😀',\n",
       " '#jindosofinstagram',\n",
       " '#jindodog',\n",
       " '#jindo',\n",
       " '#jindolove',\n",
       " '#jindopuppy',\n",
       " '#puppy',\n",
       " '#puppylove',\n",
       " '#puppiesofinstagram',\n",
       " '#petstagram',\n",
       " '#puppies',\n",
       " '#dogparkfun',\n",
       " '#dogpark',\n",
       " '#notsolittleanymore',\n",
       " '#takingabreak',\n",
       " 'AAAAAAAaaaaaaaaaaaaah!\\nCrazy!',\n",
       " 'Crazy!',\n",
       " 'Crazy!',\n",
       " 'Tear',\n",
       " 'it',\n",
       " 'up!',\n",
       " 'Tear',\n",
       " 'it',\n",
       " 'up!\\n\\n#jindo',\n",
       " '#jindoboy',\n",
       " '#jindoboi',\n",
       " '#jindosofinstagram',\n",
       " '#crazydog',\n",
       " '#toomuchenergy',\n",
       " '#ialreadywentonawalktoday',\n",
       " 'Uhm,',\n",
       " 'yes,',\n",
       " 'can',\n",
       " 'I',\n",
       " 'help',\n",
       " 'you?\\n\\n#jindoboi',\n",
       " '#jindoboy',\n",
       " '#jindo',\n",
       " '#jindosofinstagram',\n",
       " '#jindodog',\n",
       " '#imadeamess',\n",
       " 'We',\n",
       " 'have',\n",
       " 'upgraded',\n",
       " 'to',\n",
       " 'a',\n",
       " 'leotard',\n",
       " '😎\\n\\n#jindoboy',\n",
       " '#jindolad',\n",
       " '#jindodog',\n",
       " '#jindopuppy',\n",
       " '#jindosofinstagram',\n",
       " '#poorleotardboy',\n",
       " 'Got',\n",
       " 'fixed',\n",
       " 'the',\n",
       " 'other',\n",
       " 'day',\n",
       " '😔\\nBut',\n",
       " 'hey,',\n",
       " 'I',\n",
       " 'look',\n",
       " 'good',\n",
       " 'in',\n",
       " 'these',\n",
       " 'underpants,',\n",
       " 'right?\\n\\n#jindoboy',\n",
       " '#jindo',\n",
       " '#jindopuppy',\n",
       " '#jindodog',\n",
       " '#jindolad',\n",
       " '#jindolove',\n",
       " '#jindosofinstagram',\n",
       " '#igotneutered',\n",
       " '#butilookgoodinboxerbriefs',\n",
       " \"It's\",\n",
       " 'like',\n",
       " 'a',\n",
       " 'jungle',\n",
       " 'out',\n",
       " 'there',\n",
       " '🌿🌴🌦️',\n",
       " '#jindosofinstagram',\n",
       " '#jindodog',\n",
       " '#jindo',\n",
       " '#jindolove',\n",
       " '#jindopuppy',\n",
       " '#puppy',\n",
       " '#puppylove',\n",
       " '#puppiesofinstagram',\n",
       " '#petstagram',\n",
       " '#welcometothejungle',\n",
       " 'A',\n",
       " 'very',\n",
       " 'happy',\n",
       " 'puppy\\n\\n#jindo',\n",
       " '#jindopuppy',\n",
       " '#jindodog',\n",
       " '#jindosofinstagram',\n",
       " '#puppy',\n",
       " '#puppiesofinstagram',\n",
       " '#happypuppy',\n",
       " '#zoomies',\n",
       " 'oF',\n",
       " 'cOuRsE',\n",
       " 'i',\n",
       " 'LiKe',\n",
       " 'ThE',\n",
       " 'hEaT',\n",
       " '🔥😛☀️🌡️🥵',\n",
       " '#jindosofinstagram',\n",
       " '#jindodog',\n",
       " '#jindo',\n",
       " '#jindolove',\n",
       " '#jindopuppy',\n",
       " '#puppy',\n",
       " '#puppylove',\n",
       " '#puppiesofinstagram',\n",
       " '#puppies',\n",
       " '#petstagram',\n",
       " '#hotdog',\n",
       " 'I',\n",
       " 'ate',\n",
       " '3',\n",
       " 'kibble.',\n",
       " 'Now',\n",
       " 'I',\n",
       " 'can',\n",
       " 'haz',\n",
       " 'ur',\n",
       " 'sammich?\\n\\nALSO,',\n",
       " 'HE',\n",
       " 'IS',\n",
       " 'ONLY',\n",
       " '6',\n",
       " 'MONTHS',\n",
       " 'OLD,',\n",
       " 'HOW',\n",
       " 'DOES',\n",
       " 'HE',\n",
       " 'LOOK',\n",
       " 'SO',\n",
       " 'MATURE!??!\\n#jindolad',\n",
       " '#jindo',\n",
       " '#jindopuppy',\n",
       " '#puppiesofinstagram',\n",
       " 'Oh',\n",
       " 'nooo',\n",
       " 'pwwwease',\n",
       " 'my',\n",
       " 'legs',\n",
       " 'melted',\n",
       " 'I',\n",
       " \"can't\",\n",
       " 'walk',\n",
       " 'anymore',\n",
       " '😭☀️🌡️🔥',\n",
       " '#jindosofinstagram',\n",
       " '#jindodog',\n",
       " '#jindo',\n",
       " '#jindolove',\n",
       " '#jindopuppy',\n",
       " '#puppy',\n",
       " '#puppylove',\n",
       " '#puppiesofinstagram',\n",
       " '#puppies',\n",
       " '#toohot',\n",
       " '#wobblylegs',\n",
       " '#sidewalk']"
      ]
     },
     "execution_count": 29,
     "metadata": {},
     "output_type": "execute_result"
    }
   ],
   "source": [
    "words"
   ]
  },
  {
   "cell_type": "code",
   "execution_count": 30,
   "metadata": {},
   "outputs": [
    {
     "name": "stdout",
     "output_type": "stream",
     "text": [
      "['Today', 'I', 'looked', 'up', '\"napping\"', 'in', 'the', 'dictionary', 'and', 'it', 'had', 'my', 'picture', 'in', 'it', '🙄😴', '#jindosofinstagram', '#jindodog', '#jindo', '#jindolove', '#jindopuppy', '#puppy', '#puppylove', '#puppiesofinstagram', '#petstagram', '#naptime', '#nap', '#snoringpuppy', '#howisitthatimsobig', 'On', 'the', 'lookout', '(now', 'that', \"I'm\", 'tall', 'enough', 'to', 'see', 'out', 'the', 'window)\\n\\n#jindoboi', '#jindoboy', '#jindolad', '#jindo', '#jindodog', '#jindosofinstagram', '#jindopuppy', '#imwaitingforyoumailman', 'Taking', 'a', 'break', 'in', 'the', 'shade', 'from', 'running', 'around', 'in', 'the', 'dog', 'park', '😀', '#jindosofinstagram', '#jindodog', '#jindo', '#jindolove', '#jindopuppy', '#puppy', '#puppylove', '#puppiesofinstagram', '#petstagram', '#puppies', '#dogparkfun', '#dogpark', '#notsolittleanymore', '#takingabreak', 'AAAAAAAaaaaaaaaaaaaah!\\nCrazy!', 'Crazy!', 'Crazy!', 'Tear', 'it', 'up!', 'Tear', 'it', 'up!\\n\\n#jindo', '#jindoboy', '#jindoboi', '#jindosofinstagram', '#crazydog', '#toomuchenergy', '#ialreadywentonawalktoday', 'Uhm,', 'yes,', 'can', 'I', 'help', 'you?\\n\\n#jindoboi', '#jindoboy', '#jindo', '#jindosofinstagram', '#jindodog', '#imadeamess', 'We', 'have', 'upgraded', 'to', 'a', 'leotard', '😎\\n\\n#jindoboy', '#jindolad', '#jindodog', '#jindopuppy', '#jindosofinstagram', '#poorleotardboy', 'Got', 'fixed', 'the', 'other', 'day', '😔\\nBut', 'hey,', 'I', 'look', 'good', 'in', 'these', 'underpants,', 'right?\\n\\n#jindoboy', '#jindo', '#jindopuppy', '#jindodog', '#jindolad', '#jindolove', '#jindosofinstagram', '#igotneutered', '#butilookgoodinboxerbriefs', \"It's\", 'like', 'a', 'jungle', 'out', 'there', '🌿🌴🌦️', '#jindosofinstagram', '#jindodog', '#jindo', '#jindolove', '#jindopuppy', '#puppy', '#puppylove', '#puppiesofinstagram', '#petstagram', '#welcometothejungle', 'A', 'very', 'happy', 'puppy\\n\\n#jindo', '#jindopuppy', '#jindodog', '#jindosofinstagram', '#puppy', '#puppiesofinstagram', '#happypuppy', '#zoomies', 'oF', 'cOuRsE', 'i', 'LiKe', 'ThE', 'hEaT', '🔥😛☀️🌡️🥵', '#jindosofinstagram', '#jindodog', '#jindo', '#jindolove', '#jindopuppy', '#puppy', '#puppylove', '#puppiesofinstagram', '#puppies', '#petstagram', '#hotdog', 'I', 'ate', '3', 'kibble.', 'Now', 'I', 'can', 'haz', 'ur', 'sammich?\\n\\nALSO,', 'HE', 'IS', 'ONLY', '6', 'MONTHS', 'OLD,', 'HOW', 'DOES', 'HE', 'LOOK', 'SO', 'MATURE!??!\\n#jindolad', '#jindo', '#jindopuppy', '#puppiesofinstagram', 'Oh', 'nooo', 'pwwwease', 'my', 'legs', 'melted', 'I', \"can't\", 'walk', 'anymore', '😭☀️🌡️🔥', '#jindosofinstagram', '#jindodog', '#jindo', '#jindolove', '#jindopuppy', '#puppy', '#puppylove', '#puppiesofinstagram', '#puppies', '#toohot', '#wobblylegs', '#sidewalk']\n"
     ]
    }
   ],
   "source": [
    "print(words)"
   ]
  },
  {
   "cell_type": "code",
   "execution_count": 4,
   "metadata": {},
   "outputs": [
    {
     "data": {
      "text/plain": [
       "'Today'"
      ]
     },
     "execution_count": 4,
     "metadata": {},
     "output_type": "execute_result"
    }
   ],
   "source": [
    "words[0]"
   ]
  },
  {
   "cell_type": "markdown",
   "metadata": {},
   "source": [
    "Introducing Functions"
   ]
  },
  {
   "cell_type": "code",
   "execution_count": 31,
   "metadata": {},
   "outputs": [],
   "source": [
    "# Function of what I sometimes thinks cats say\n",
    "def cat(param):\n",
    "    return \"no.\""
   ]
  },
  {
   "cell_type": "code",
   "execution_count": 33,
   "metadata": {},
   "outputs": [
    {
     "data": {
      "text/plain": [
       "'no.'"
      ]
     },
     "execution_count": 33,
     "metadata": {},
     "output_type": "execute_result"
    }
   ],
   "source": [
    "cat(\"Come here please\")"
   ]
  },
  {
   "cell_type": "code",
   "execution_count": 35,
   "metadata": {},
   "outputs": [],
   "source": [
    "def cat(param):\n",
    "    return \"no.\" # TODO: translate to cat"
   ]
  },
  {
   "cell_type": "code",
   "execution_count": 36,
   "metadata": {},
   "outputs": [
    {
     "data": {
      "text/plain": [
       "'no.'"
      ]
     },
     "execution_count": 36,
     "metadata": {},
     "output_type": "execute_result"
    }
   ],
   "source": [
    "cat(\"Come here please\")"
   ]
  },
  {
   "cell_type": "code",
   "execution_count": 5,
   "metadata": {},
   "outputs": [],
   "source": [
    "def isTag(word):\n",
    "    return word.startswith(\"#\")"
   ]
  },
  {
   "cell_type": "code",
   "execution_count": 37,
   "metadata": {},
   "outputs": [],
   "source": [
    "tags_iter = filter(isTag, words)\n",
    "tags = list(tags_iter)"
   ]
  },
  {
   "cell_type": "code",
   "execution_count": 38,
   "metadata": {},
   "outputs": [
    {
     "data": {
      "text/plain": [
       "['#jindosofinstagram',\n",
       " '#jindodog',\n",
       " '#jindo',\n",
       " '#jindolove',\n",
       " '#jindopuppy',\n",
       " '#puppy',\n",
       " '#puppylove',\n",
       " '#puppiesofinstagram',\n",
       " '#petstagram',\n",
       " '#naptime',\n",
       " '#nap',\n",
       " '#snoringpuppy',\n",
       " '#howisitthatimsobig',\n",
       " '#jindoboy',\n",
       " '#jindolad',\n",
       " '#jindo',\n",
       " '#jindodog',\n",
       " '#jindosofinstagram',\n",
       " '#jindopuppy',\n",
       " '#imwaitingforyoumailman',\n",
       " '#jindosofinstagram',\n",
       " '#jindodog',\n",
       " '#jindo',\n",
       " '#jindolove',\n",
       " '#jindopuppy',\n",
       " '#puppy',\n",
       " '#puppylove',\n",
       " '#puppiesofinstagram',\n",
       " '#petstagram',\n",
       " '#puppies',\n",
       " '#dogparkfun',\n",
       " '#dogpark',\n",
       " '#notsolittleanymore',\n",
       " '#takingabreak',\n",
       " '#jindoboy',\n",
       " '#jindoboi',\n",
       " '#jindosofinstagram',\n",
       " '#crazydog',\n",
       " '#toomuchenergy',\n",
       " '#ialreadywentonawalktoday',\n",
       " '#jindoboy',\n",
       " '#jindo',\n",
       " '#jindosofinstagram',\n",
       " '#jindodog',\n",
       " '#imadeamess',\n",
       " '#jindolad',\n",
       " '#jindodog',\n",
       " '#jindopuppy',\n",
       " '#jindosofinstagram',\n",
       " '#poorleotardboy',\n",
       " '#jindo',\n",
       " '#jindopuppy',\n",
       " '#jindodog',\n",
       " '#jindolad',\n",
       " '#jindolove',\n",
       " '#jindosofinstagram',\n",
       " '#igotneutered',\n",
       " '#butilookgoodinboxerbriefs',\n",
       " '#jindosofinstagram',\n",
       " '#jindodog',\n",
       " '#jindo',\n",
       " '#jindolove',\n",
       " '#jindopuppy',\n",
       " '#puppy',\n",
       " '#puppylove',\n",
       " '#puppiesofinstagram',\n",
       " '#petstagram',\n",
       " '#welcometothejungle',\n",
       " '#jindopuppy',\n",
       " '#jindodog',\n",
       " '#jindosofinstagram',\n",
       " '#puppy',\n",
       " '#puppiesofinstagram',\n",
       " '#happypuppy',\n",
       " '#zoomies',\n",
       " '#jindosofinstagram',\n",
       " '#jindodog',\n",
       " '#jindo',\n",
       " '#jindolove',\n",
       " '#jindopuppy',\n",
       " '#puppy',\n",
       " '#puppylove',\n",
       " '#puppiesofinstagram',\n",
       " '#puppies',\n",
       " '#petstagram',\n",
       " '#hotdog',\n",
       " '#jindo',\n",
       " '#jindopuppy',\n",
       " '#puppiesofinstagram',\n",
       " '#jindosofinstagram',\n",
       " '#jindodog',\n",
       " '#jindo',\n",
       " '#jindolove',\n",
       " '#jindopuppy',\n",
       " '#puppy',\n",
       " '#puppylove',\n",
       " '#puppiesofinstagram',\n",
       " '#puppies',\n",
       " '#toohot',\n",
       " '#wobblylegs',\n",
       " '#sidewalk']"
      ]
     },
     "execution_count": 38,
     "metadata": {},
     "output_type": "execute_result"
    }
   ],
   "source": [
    "tags"
   ]
  },
  {
   "cell_type": "code",
   "execution_count": null,
   "metadata": {},
   "outputs": [],
   "source": []
  },
  {
   "cell_type": "code",
   "execution_count": 39,
   "metadata": {},
   "outputs": [],
   "source": [
    "def get_tags(username):\n",
    "    import basic_instagram_library\n",
    "    words = basic_instagram_library.find_words(username)\n",
    "    def isTag(word):\n",
    "        return word.startswith(\"#\")\n",
    "    tags_iter = filter(isTag, words)\n",
    "    return list(tags_iter)"
   ]
  },
  {
   "cell_type": "code",
   "execution_count": 40,
   "metadata": {},
   "outputs": [
    {
     "data": {
      "text/plain": [
       "['#jindosofinstagram',\n",
       " '#jindodog',\n",
       " '#jindo',\n",
       " '#jindolove',\n",
       " '#jindopuppy',\n",
       " '#puppy',\n",
       " '#puppylove',\n",
       " '#puppiesofinstagram',\n",
       " '#petstagram',\n",
       " '#naptime',\n",
       " '#nap',\n",
       " '#snoringpuppy',\n",
       " '#howisitthatimsobig',\n",
       " '#jindoboy',\n",
       " '#jindolad',\n",
       " '#jindo',\n",
       " '#jindodog',\n",
       " '#jindosofinstagram',\n",
       " '#jindopuppy',\n",
       " '#imwaitingforyoumailman',\n",
       " '#jindosofinstagram',\n",
       " '#jindodog',\n",
       " '#jindo',\n",
       " '#jindolove',\n",
       " '#jindopuppy',\n",
       " '#puppy',\n",
       " '#puppylove',\n",
       " '#puppiesofinstagram',\n",
       " '#petstagram',\n",
       " '#puppies',\n",
       " '#dogparkfun',\n",
       " '#dogpark',\n",
       " '#notsolittleanymore',\n",
       " '#takingabreak',\n",
       " '#jindoboy',\n",
       " '#jindoboi',\n",
       " '#jindosofinstagram',\n",
       " '#crazydog',\n",
       " '#toomuchenergy',\n",
       " '#ialreadywentonawalktoday',\n",
       " '#jindoboy',\n",
       " '#jindo',\n",
       " '#jindosofinstagram',\n",
       " '#jindodog',\n",
       " '#imadeamess',\n",
       " '#jindolad',\n",
       " '#jindodog',\n",
       " '#jindopuppy',\n",
       " '#jindosofinstagram',\n",
       " '#poorleotardboy',\n",
       " '#jindo',\n",
       " '#jindopuppy',\n",
       " '#jindodog',\n",
       " '#jindolad',\n",
       " '#jindolove',\n",
       " '#jindosofinstagram',\n",
       " '#igotneutered',\n",
       " '#butilookgoodinboxerbriefs',\n",
       " '#jindosofinstagram',\n",
       " '#jindodog',\n",
       " '#jindo',\n",
       " '#jindolove',\n",
       " '#jindopuppy',\n",
       " '#puppy',\n",
       " '#puppylove',\n",
       " '#puppiesofinstagram',\n",
       " '#petstagram',\n",
       " '#welcometothejungle',\n",
       " '#jindopuppy',\n",
       " '#jindodog',\n",
       " '#jindosofinstagram',\n",
       " '#puppy',\n",
       " '#puppiesofinstagram',\n",
       " '#happypuppy',\n",
       " '#zoomies',\n",
       " '#jindosofinstagram',\n",
       " '#jindodog',\n",
       " '#jindo',\n",
       " '#jindolove',\n",
       " '#jindopuppy',\n",
       " '#puppy',\n",
       " '#puppylove',\n",
       " '#puppiesofinstagram',\n",
       " '#puppies',\n",
       " '#petstagram',\n",
       " '#hotdog',\n",
       " '#jindo',\n",
       " '#jindopuppy',\n",
       " '#puppiesofinstagram',\n",
       " '#jindosofinstagram',\n",
       " '#jindodog',\n",
       " '#jindo',\n",
       " '#jindolove',\n",
       " '#jindopuppy',\n",
       " '#puppy',\n",
       " '#puppylove',\n",
       " '#puppiesofinstagram',\n",
       " '#puppies',\n",
       " '#toohot',\n",
       " '#wobblylegs',\n",
       " '#sidewalk']"
      ]
     },
     "execution_count": 40,
     "metadata": {},
     "output_type": "execute_result"
    }
   ],
   "source": [
    "get_tags(\"nanook_of_the_burgh\")"
   ]
  },
  {
   "cell_type": "code",
   "execution_count": 41,
   "metadata": {},
   "outputs": [],
   "source": [
    "awesome_people = [\"hkarau\", \"rovetastic\"]"
   ]
  },
  {
   "cell_type": "code",
   "execution_count": 46,
   "metadata": {},
   "outputs": [],
   "source": [
    "awesome_tags_iter = map(get_tags, awesome_people)\n",
    "awesome_tags = list(awesome_tags_iter)"
   ]
  },
  {
   "cell_type": "code",
   "execution_count": 47,
   "metadata": {},
   "outputs": [
    {
     "data": {
      "text/plain": [
       "[['#bootiesf',\n",
       "  '#friedfood',\n",
       "  '#sweet16',\n",
       "  '#sftransmarch',\n",
       "  '#leathertuesday',\n",
       "  '#flyinghome'],\n",
       " ['#dogauntie']]"
      ]
     },
     "execution_count": 47,
     "metadata": {},
     "output_type": "execute_result"
    }
   ],
   "source": [
    "awesome_tags"
   ]
  },
  {
   "cell_type": "markdown",
   "metadata": {},
   "source": [
    "Getting started with Spark"
   ]
  },
  {
   "cell_type": "code",
   "execution_count": 49,
   "metadata": {},
   "outputs": [],
   "source": [
    "from pyspark import *\n",
    "from pyspark.sql import *"
   ]
  },
  {
   "cell_type": "code",
   "execution_count": 52,
   "metadata": {},
   "outputs": [],
   "source": [
    "spark_session = SparkSession.builder.getOrCreate()\n",
    "sc = spark_session.sparkContext"
   ]
  },
  {
   "cell_type": "code",
   "execution_count": 55,
   "metadata": {},
   "outputs": [],
   "source": [
    "awesome_people_rdd = sc.parallelize(awesome_people)"
   ]
  },
  {
   "cell_type": "code",
   "execution_count": 56,
   "metadata": {},
   "outputs": [],
   "source": [
    "awesome_tags_rdd = awesome_people_rdd.map(get_tags)"
   ]
  },
  {
   "cell_type": "code",
   "execution_count": 57,
   "metadata": {},
   "outputs": [],
   "source": [
    "flat_awesome_tags_rdd = awesome_people_rdd.flatMap(get_tags)"
   ]
  },
  {
   "cell_type": "code",
   "execution_count": 58,
   "metadata": {},
   "outputs": [
    {
     "data": {
      "text/plain": [
       "'#bootiesf'"
      ]
     },
     "execution_count": 58,
     "metadata": {},
     "output_type": "execute_result"
    }
   ],
   "source": [
    "flat_awesome_tags_rdd.first()"
   ]
  },
  {
   "cell_type": "code",
   "execution_count": 59,
   "metadata": {},
   "outputs": [],
   "source": [
    "def word_pair(word):\n",
    "    return (word, 1)"
   ]
  },
  {
   "cell_type": "code",
   "execution_count": 64,
   "metadata": {},
   "outputs": [],
   "source": [
    "tag_pairs_rdd = flat_awesome_tags_rdd.map(word_pair)"
   ]
  },
  {
   "cell_type": "code",
   "execution_count": 65,
   "metadata": {},
   "outputs": [],
   "source": [
    "def sum_count(count1, count2):\n",
    "    return count1 + count2"
   ]
  },
  {
   "cell_type": "code",
   "execution_count": 66,
   "metadata": {},
   "outputs": [],
   "source": [
    "tag_counts_rdd = tag_pairs_rdd.reduceByKey(sum_count)"
   ]
  },
  {
   "cell_type": "code",
   "execution_count": 67,
   "metadata": {},
   "outputs": [
    {
     "data": {
      "text/plain": [
       "[('#friedfood', 1),\n",
       " ('#sftransmarch', 1),\n",
       " ('#dogauntie', 1),\n",
       " ('#flyinghome', 1),\n",
       " ('#bootiesf', 1),\n",
       " ('#sweet16', 1),\n",
       " ('#leathertuesday', 1)]"
      ]
     },
     "execution_count": 67,
     "metadata": {},
     "output_type": "execute_result"
    }
   ],
   "source": [
    "tag_counts_rdd.collect()"
   ]
  },
  {
   "cell_type": "code",
   "execution_count": null,
   "metadata": {},
   "outputs": [],
   "source": []
  }
 ],
 "metadata": {
  "kernelspec": {
   "display_name": "Python 3",
   "language": "python",
   "name": "python3"
  },
  "language_info": {
   "codemirror_mode": {
    "name": "ipython",
    "version": 3
   },
   "file_extension": ".py",
   "mimetype": "text/x-python",
   "name": "python",
   "nbconvert_exporter": "python",
   "pygments_lexer": "ipython3",
   "version": "3.7.3"
  }
 },
 "nbformat": 4,
 "nbformat_minor": 2
}
